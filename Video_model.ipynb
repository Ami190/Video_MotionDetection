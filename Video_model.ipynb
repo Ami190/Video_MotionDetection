{
 "cells": [
  {
   "cell_type": "markdown",
   "metadata": {},
   "source": [
    "1) load numpy arrays\n",
    "\n",
    "2) pass it to the model for training\n",
    "\n",
    "3) plot and evaluate model¶\n"
   ]
  },
  {
   "cell_type": "code",
   "execution_count": 2,
   "metadata": {},
   "outputs": [],
   "source": [
    "import numpy"
   ]
  },
  {
   "cell_type": "code",
   "execution_count": 3,
   "metadata": {},
   "outputs": [],
   "source": [
    "train_d = numpy.load('data/train_data.npy')"
   ]
  },
  {
   "cell_type": "code",
   "execution_count": 4,
   "metadata": {},
   "outputs": [],
   "source": [
    "train_l =numpy.load('data/train_label.npy')"
   ]
  },
  {
   "cell_type": "code",
   "execution_count": 5,
   "metadata": {},
   "outputs": [],
   "source": [
    "test_d = numpy.load('data/test_data.npy')"
   ]
  },
  {
   "cell_type": "code",
   "execution_count": 6,
   "metadata": {},
   "outputs": [],
   "source": [
    "test_l = numpy.load('data/test_label.npy')"
   ]
  },
  {
   "cell_type": "code",
   "execution_count": 7,
   "metadata": {},
   "outputs": [],
   "source": [
    "import matplotlib.pyplot as plt\n",
    "\n",
    "def plot_history(history):\n",
    "    plt.plot(history.history['acc'], marker='.')\n",
    "    plt.plot(history.history['val_acc'], marker='.')\n",
    "    plt.title('model accuracy')\n",
    "    plt.xlabel('epoch')\n",
    "    plt.ylabel('accuracy')\n",
    "    plt.grid()\n",
    "    plt.legend(['acc', 'val_acc'], loc='lower right')\n",
    "    plt.show()\n",
    "    plt.savefig('model_accuracy.png')\n",
    "    plt.close()\n",
    "\n",
    "    plt.plot(history.history['loss'], marker='.')\n",
    "    plt.plot(history.history['val_loss'], marker='.')\n",
    "    plt.title('model loss')\n",
    "    plt.xlabel('epoch')\n",
    "    plt.ylabel('loss')\n",
    "    plt.grid()\n",
    "    plt.legend(['loss', 'val_loss'], loc='upper right')\n",
    "    plt.show()\n",
    "    plt.savefig('model_loss.png')\n",
    "    plt.close()"
   ]
  },
  {
   "cell_type": "code",
   "execution_count": 8,
   "metadata": {},
   "outputs": [],
   "source": [
    "def save_history(history):\n",
    "    loss = history.history['loss']\n",
    "    acc = history.history['acc']\n",
    "    val_loss = history.history['val_loss']\n",
    "    val_acc = history.history['val_acc']\n",
    "    nb_epoch = len(acc)\n",
    "\n",
    "    with open('result.txt', 'w') as fp:\n",
    "        fp.write('epoch\\tloss\\tacc\\tval_loss\\tval_acc\\n')\n",
    "        for i in range(nb_epoch):\n",
    "            fp.write('{}\\t{}\\t{}\\t{}\\t{}\\n'.format(\n",
    "                i, loss[i], acc[i], val_loss[i], val_acc[i]))\n"
   ]
  },
  {
   "cell_type": "code",
   "execution_count": 9,
   "metadata": {},
   "outputs": [
    {
     "name": "stderr",
     "output_type": "stream",
     "text": [
      "/home/sgg_goel/anaconda3/envs/fastai/lib/python3.6/site-packages/ipykernel_launcher.py:14: UserWarning: Update your `Conv3D` call to the Keras 2 API: `Conv3D(128, kernel_size=(3, 3, 3), input_shape=(3, 16, 11..., padding=\"same\")`\n",
      "  \n",
      "/home/sgg_goel/anaconda3/envs/fastai/lib/python3.6/site-packages/ipykernel_launcher.py:16: UserWarning: Update your `Conv3D` call to the Keras 2 API: `Conv3D(64, kernel_size=(3, 3, 3), padding=\"same\")`\n",
      "  app.launch_new_instance()\n",
      "/home/sgg_goel/anaconda3/envs/fastai/lib/python3.6/site-packages/ipykernel_launcher.py:18: UserWarning: Update your `MaxPooling3D` call to the Keras 2 API: `MaxPooling3D(pool_size=(3, 3, 3), padding=\"same\")`\n",
      "/home/sgg_goel/anaconda3/envs/fastai/lib/python3.6/site-packages/ipykernel_launcher.py:21: UserWarning: Update your `Conv3D` call to the Keras 2 API: `Conv3D(64, kernel_size=(3, 3, 3), padding=\"same\")`\n",
      "/home/sgg_goel/anaconda3/envs/fastai/lib/python3.6/site-packages/ipykernel_launcher.py:23: UserWarning: Update your `Conv3D` call to the Keras 2 API: `Conv3D(64, kernel_size=(3, 3, 3), padding=\"same\")`\n",
      "/home/sgg_goel/anaconda3/envs/fastai/lib/python3.6/site-packages/ipykernel_launcher.py:25: UserWarning: Update your `MaxPooling3D` call to the Keras 2 API: `MaxPooling3D(pool_size=(3, 3, 3), padding=\"same\")`\n"
     ]
    },
    {
     "name": "stdout",
     "output_type": "stream",
     "text": [
      "_________________________________________________________________\n",
      "Layer (type)                 Output Shape              Param #   \n",
      "=================================================================\n",
      "conv3d_1 (Conv3D)            (None, 3, 16, 112, 128)   387200    \n",
      "_________________________________________________________________\n",
      "activation_1 (Activation)    (None, 3, 16, 112, 128)   0         \n",
      "_________________________________________________________________\n",
      "conv3d_2 (Conv3D)            (None, 3, 16, 112, 64)    221248    \n",
      "_________________________________________________________________\n",
      "activation_2 (Activation)    (None, 3, 16, 112, 64)    0         \n",
      "_________________________________________________________________\n",
      "max_pooling3d_1 (MaxPooling3 (None, 1, 6, 38, 64)      0         \n",
      "_________________________________________________________________\n",
      "dropout_1 (Dropout)          (None, 1, 6, 38, 64)      0         \n",
      "_________________________________________________________________\n",
      "conv3d_3 (Conv3D)            (None, 1, 6, 38, 64)      110656    \n",
      "_________________________________________________________________\n",
      "activation_3 (Activation)    (None, 1, 6, 38, 64)      0         \n",
      "_________________________________________________________________\n",
      "conv3d_4 (Conv3D)            (None, 1, 6, 38, 64)      110656    \n",
      "_________________________________________________________________\n",
      "activation_4 (Activation)    (None, 1, 6, 38, 64)      0         \n",
      "_________________________________________________________________\n",
      "max_pooling3d_2 (MaxPooling3 (None, 1, 2, 13, 64)      0         \n",
      "_________________________________________________________________\n",
      "dropout_2 (Dropout)          (None, 1, 2, 13, 64)      0         \n",
      "_________________________________________________________________\n",
      "flatten_1 (Flatten)          (None, 1664)              0         \n",
      "_________________________________________________________________\n",
      "dense_1 (Dense)              (None, 512)               852480    \n",
      "_________________________________________________________________\n",
      "dropout_3 (Dropout)          (None, 512)               0         \n",
      "_________________________________________________________________\n",
      "dense_2 (Dense)              (None, 2)                 1026      \n",
      "=================================================================\n",
      "Total params: 1,683,266\n",
      "Trainable params: 1,683,266\n",
      "Non-trainable params: 0\n",
      "_________________________________________________________________\n",
      "Train on 52 samples, validate on 52 samples\n",
      "Epoch 1/30\n",
      "52/52 [==============================] - 75s 1s/step - loss: 0.8320 - acc: 0.5192 - val_loss: 1.1472 - val_acc: 0.0000e+00\n",
      "Epoch 2/30\n",
      "52/52 [==============================] - 75s 1s/step - loss: 0.5143 - acc: 0.7500 - val_loss: 1.7068 - val_acc: 0.0000e+00\n",
      "Epoch 3/30\n",
      "52/52 [==============================] - 75s 1s/step - loss: 0.2812 - acc: 0.9231 - val_loss: 2.3147 - val_acc: 0.0000e+00\n",
      "Epoch 4/30\n",
      "52/52 [==============================] - 75s 1s/step - loss: 0.1341 - acc: 1.0000 - val_loss: 2.9160 - val_acc: 0.0000e+00\n",
      "Epoch 5/30\n",
      "52/52 [==============================] - 75s 1s/step - loss: 0.0949 - acc: 1.0000 - val_loss: 3.4965 - val_acc: 0.0000e+00\n",
      "Epoch 6/30\n",
      "52/52 [==============================] - 75s 1s/step - loss: 0.0501 - acc: 1.0000 - val_loss: 4.0427 - val_acc: 0.0000e+00\n",
      "Epoch 7/30\n",
      "52/52 [==============================] - 75s 1s/step - loss: 0.0294 - acc: 1.0000 - val_loss: 4.5508 - val_acc: 0.0000e+00\n",
      "Epoch 8/30\n",
      "52/52 [==============================] - 75s 1s/step - loss: 0.0230 - acc: 1.0000 - val_loss: 5.0291 - val_acc: 0.0000e+00\n",
      "Epoch 9/30\n",
      "52/52 [==============================] - 75s 1s/step - loss: 0.0121 - acc: 1.0000 - val_loss: 5.4827 - val_acc: 0.0000e+00\n",
      "Epoch 10/30\n",
      "52/52 [==============================] - 75s 1s/step - loss: 0.0078 - acc: 1.0000 - val_loss: 5.9222 - val_acc: 0.0000e+00\n",
      "Epoch 11/30\n",
      "52/52 [==============================] - 75s 1s/step - loss: 0.0035 - acc: 1.0000 - val_loss: 6.3186 - val_acc: 0.0000e+00\n",
      "Epoch 12/30\n",
      "52/52 [==============================] - 75s 1s/step - loss: 0.0022 - acc: 1.0000 - val_loss: 6.6812 - val_acc: 0.0000e+00\n",
      "Epoch 13/30\n",
      "52/52 [==============================] - 75s 1s/step - loss: 0.0018 - acc: 1.0000 - val_loss: 7.0119 - val_acc: 0.0000e+00\n",
      "Epoch 14/30\n",
      "52/52 [==============================] - 74s 1s/step - loss: 0.0014 - acc: 1.0000 - val_loss: 7.3130 - val_acc: 0.0000e+00\n",
      "Epoch 15/30\n",
      "52/52 [==============================] - 75s 1s/step - loss: 0.0012 - acc: 1.0000 - val_loss: 7.5868 - val_acc: 0.0000e+00\n",
      "Epoch 16/30\n",
      "52/52 [==============================] - 75s 1s/step - loss: 7.3669e-04 - acc: 1.0000 - val_loss: 7.8351 - val_acc: 0.0000e+00\n",
      "Epoch 17/30\n",
      "52/52 [==============================] - 75s 1s/step - loss: 6.8800e-04 - acc: 1.0000 - val_loss: 8.0617 - val_acc: 0.0000e+00\n",
      "Epoch 18/30\n",
      "52/52 [==============================] - 75s 1s/step - loss: 3.0812e-04 - acc: 1.0000 - val_loss: 8.2673 - val_acc: 0.0000e+00\n",
      "Epoch 19/30\n",
      "52/52 [==============================] - 75s 1s/step - loss: 4.2224e-04 - acc: 1.0000 - val_loss: 8.4556 - val_acc: 0.0000e+00\n",
      "Epoch 20/30\n",
      "52/52 [==============================] - 76s 1s/step - loss: 5.0837e-04 - acc: 1.0000 - val_loss: 8.6299 - val_acc: 0.0000e+00\n",
      "Epoch 21/30\n",
      "52/52 [==============================] - 75s 1s/step - loss: 1.8724e-04 - acc: 1.0000 - val_loss: 8.7898 - val_acc: 0.0000e+00\n",
      "Epoch 22/30\n",
      "52/52 [==============================] - 77s 1s/step - loss: 2.7978e-04 - acc: 1.0000 - val_loss: 8.9384 - val_acc: 0.0000e+00\n",
      "Epoch 23/30\n",
      "52/52 [==============================] - 75s 1s/step - loss: 1.7151e-04 - acc: 1.0000 - val_loss: 9.0760 - val_acc: 0.0000e+00\n",
      "Epoch 24/30\n",
      "52/52 [==============================] - 75s 1s/step - loss: 2.1618e-04 - acc: 1.0000 - val_loss: 9.2041 - val_acc: 0.0000e+00\n",
      "Epoch 25/30\n",
      "52/52 [==============================] - 75s 1s/step - loss: 1.2238e-04 - acc: 1.0000 - val_loss: 9.3229 - val_acc: 0.0000e+00\n",
      "Epoch 26/30\n",
      "52/52 [==============================] - 75s 1s/step - loss: 1.1053e-04 - acc: 1.0000 - val_loss: 9.4338 - val_acc: 0.0000e+00\n",
      "Epoch 27/30\n",
      "52/52 [==============================] - 75s 1s/step - loss: 1.3205e-04 - acc: 1.0000 - val_loss: 9.5376 - val_acc: 0.0000e+00\n",
      "Epoch 28/30\n",
      "52/52 [==============================] - 75s 1s/step - loss: 1.2680e-04 - acc: 1.0000 - val_loss: 9.6360 - val_acc: 0.0000e+00\n",
      "Epoch 29/30\n",
      "52/52 [==============================] - 75s 1s/step - loss: 9.9278e-05 - acc: 1.0000 - val_loss: 9.7270 - val_acc: 0.0000e+00\n",
      "Epoch 30/30\n",
      "52/52 [==============================] - 75s 1s/step - loss: 8.5753e-05 - acc: 1.0000 - val_loss: 9.8116 - val_acc: 0.0000e+00\n"
     ]
    },
    {
     "data": {
      "image/png": "[encoded data removed]",
      "text/plain": [
       "<Figure size 432x288 with 1 Axes>"
      ]
     },
     "metadata": {},
     "output_type": "display_data"
    },
    {
     "data": {
      "image/png": "[encoded data removed]",
      "text/plain": [
       "<Figure size 432x288 with 1 Axes>"
      ]
     },
     "metadata": {},
     "output_type": "display_data"
    },
    {
     "ename": "ImportError",
     "evalue": "`save_weights` requires h5py.",
     "output_type": "error",
     "traceback": [
      "\u001b[0;31m---------------------------------------------------------------------------\u001b[0m",
      "\u001b[0;31mImportError\u001b[0m                               Traceback (most recent call last)",
      "\u001b[0;32m<ipython-input-9-a10b3a72ce15>\u001b[0m in \u001b[0;36m<module>\u001b[0;34m()\u001b[0m\n\u001b[1;32m     48\u001b[0m \u001b[0;32mwith\u001b[0m \u001b[0mopen\u001b[0m\u001b[0;34m(\u001b[0m \u001b[0;34m'ucf101_3dcnnmodel.json'\u001b[0m\u001b[0;34m,\u001b[0m \u001b[0;34m'w'\u001b[0m\u001b[0;34m)\u001b[0m \u001b[0;32mas\u001b[0m \u001b[0mjson_file\u001b[0m\u001b[0;34m:\u001b[0m\u001b[0;34m\u001b[0m\u001b[0m\n\u001b[1;32m     49\u001b[0m     \u001b[0mjson_file\u001b[0m\u001b[0;34m.\u001b[0m\u001b[0mwrite\u001b[0m\u001b[0;34m(\u001b[0m\u001b[0mmodel_json\u001b[0m\u001b[0;34m)\u001b[0m\u001b[0;34m\u001b[0m\u001b[0m\n\u001b[0;32m---> 50\u001b[0;31m \u001b[0mmodel\u001b[0m\u001b[0;34m.\u001b[0m\u001b[0msave_weights\u001b[0m\u001b[0;34m(\u001b[0m \u001b[0;34m'ucf101_3dcnnmodel.hd5'\u001b[0m\u001b[0;34m)\u001b[0m\u001b[0;34m\u001b[0m\u001b[0m\n\u001b[0m\u001b[1;32m     51\u001b[0m \u001b[0;34m\u001b[0m\u001b[0m\n\u001b[1;32m     52\u001b[0m \u001b[0mloss\u001b[0m\u001b[0;34m,\u001b[0m \u001b[0macc\u001b[0m \u001b[0;34m=\u001b[0m \u001b[0mmodel\u001b[0m\u001b[0;34m.\u001b[0m\u001b[0mevaluate\u001b[0m\u001b[0;34m(\u001b[0m\u001b[0mtest_d\u001b[0m\u001b[0;34m,\u001b[0m \u001b[0mtest_l\u001b[0m\u001b[0;34m,\u001b[0m \u001b[0mverbose\u001b[0m\u001b[0;34m=\u001b[0m\u001b[0;36m1\u001b[0m\u001b[0;34m)\u001b[0m\u001b[0;34m\u001b[0m\u001b[0m\n",
      "\u001b[0;32m~/anaconda3/envs/fastai/lib/python3.6/site-packages/keras/models.py\u001b[0m in \u001b[0;36msave_weights\u001b[0;34m(self, filepath, overwrite)\u001b[0m\n\u001b[1;32m    741\u001b[0m     \u001b[0;32mdef\u001b[0m \u001b[0msave_weights\u001b[0m\u001b[0;34m(\u001b[0m\u001b[0mself\u001b[0m\u001b[0;34m,\u001b[0m \u001b[0mfilepath\u001b[0m\u001b[0;34m,\u001b[0m \u001b[0moverwrite\u001b[0m\u001b[0;34m=\u001b[0m\u001b[0;32mTrue\u001b[0m\u001b[0;34m)\u001b[0m\u001b[0;34m:\u001b[0m\u001b[0;34m\u001b[0m\u001b[0m\n\u001b[1;32m    742\u001b[0m         \u001b[0;32mif\u001b[0m \u001b[0mh5py\u001b[0m \u001b[0;32mis\u001b[0m \u001b[0;32mNone\u001b[0m\u001b[0;34m:\u001b[0m\u001b[0;34m\u001b[0m\u001b[0m\n\u001b[0;32m--> 743\u001b[0;31m             \u001b[0;32mraise\u001b[0m \u001b[0mImportError\u001b[0m\u001b[0;34m(\u001b[0m\u001b[0;34m'`save_weights` requires h5py.'\u001b[0m\u001b[0;34m)\u001b[0m\u001b[0;34m\u001b[0m\u001b[0m\n\u001b[0m\u001b[1;32m    744\u001b[0m         \u001b[0;31m# If file exists and should not be overwritten:\u001b[0m\u001b[0;34m\u001b[0m\u001b[0;34m\u001b[0m\u001b[0m\n\u001b[1;32m    745\u001b[0m         \u001b[0;32mif\u001b[0m \u001b[0;32mnot\u001b[0m \u001b[0moverwrite\u001b[0m \u001b[0;32mand\u001b[0m \u001b[0mos\u001b[0m\u001b[0;34m.\u001b[0m\u001b[0mpath\u001b[0m\u001b[0;34m.\u001b[0m\u001b[0misfile\u001b[0m\u001b[0;34m(\u001b[0m\u001b[0mfilepath\u001b[0m\u001b[0;34m)\u001b[0m\u001b[0;34m:\u001b[0m\u001b[0;34m\u001b[0m\u001b[0m\n",
      "\u001b[0;31mImportError\u001b[0m: `save_weights` requires h5py."
     ]
    }
   ],
   "source": [
    "from keras.layers import (Activation, Conv3D, Dense, Dropout, Flatten,\n",
    "                          MaxPooling3D)\n",
    "from keras.layers.advanced_activations import LeakyReLU\n",
    "from keras.losses import categorical_crossentropy\n",
    "from keras.models import Sequential\n",
    "from keras.optimizers import Adam\n",
    "from keras.utils import np_utils\n",
    "from keras.utils.vis_utils import plot_model\n",
    "from sklearn.model_selection import train_test_split\n",
    "from keras.utils.vis_utils import plot_model\n",
    "# Define model\n",
    "model = Sequential()\n",
    "model.add(Conv3D(128, kernel_size=(3, 3, 3), input_shape=(\n",
    "train_d.shape[1:]), border_mode='same'))\n",
    "model.add(Activation('relu'))\n",
    "model.add(Conv3D(64, kernel_size=(3, 3, 3), border_mode='same'))\n",
    "model.add(Activation('softmax'))\n",
    "model.add(MaxPooling3D(pool_size=(3, 3, 3), border_mode='same'))\n",
    "model.add(Dropout(0.5))\n",
    "\n",
    "model.add(Conv3D(64, kernel_size=(3, 3, 3), border_mode='same'))\n",
    "model.add(Activation('relu'))\n",
    "model.add(Conv3D(64, kernel_size=(3, 3, 3), border_mode='same'))\n",
    "model.add(Activation('softmax'))\n",
    "model.add(MaxPooling3D(pool_size=(3, 3, 3), border_mode='same'))\n",
    "model.add(Dropout(0.5))\n",
    "\n",
    "\n",
    "model.add(Flatten())\n",
    "model.add(Dense(512, activation='sigmoid'))\n",
    "model.add(Dropout(0.5))\n",
    "model.add(Dense(2, activation='softmax'))\n",
    "\n",
    "model.compile(loss=categorical_crossentropy,optimizer=Adam(), metrics=['accuracy'])\n",
    "model.summary()\n",
    "\n",
    "\n",
    "history = model.fit(train_d, train_l, validation_data=(test_d, test_l), batch_size=130,epochs=30, verbose=1, shuffle=True)\n",
    "plot_history(history)\n",
    "save_history(history)\n",
    "\n",
    "\n"
   ]
  },
  {
   "cell_type": "code",
   "execution_count": 10,
   "metadata": {},
   "outputs": [
    {
     "name": "stdout",
     "output_type": "stream",
     "text": [
      "52/52 [==============================] - 16s 306ms/step\n",
      "Test loss: 9.811587260319637\n",
      "Test accuracy: 0.0\n"
     ]
    }
   ],
   "source": []
  },
  {
   "cell_type": "code",
   "execution_count": null,
   "metadata": {},
   "outputs": [],
   "source": []
  }
 ],
 "metadata": {
  "kernelspec": {
   "display_name": "Python 3",
   "language": "python",
   "name": "python3"
  },
  "language_info": {
   "codemirror_mode": {
    "name": "ipython",
    "version": 3
   },
   "file_extension": ".py",
   "mimetype": "text/x-python",
   "name": "python",
   "nbconvert_exporter": "python",
   "pygments_lexer": "ipython3",
   "version": "3.6.5"
  }
 },
 "nbformat": 4,
 "nbformat_minor": 2
}
